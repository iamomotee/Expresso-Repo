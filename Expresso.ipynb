{
 "cells": [
  {
   "cell_type": "code",
   "execution_count": 1,
   "metadata": {},
   "outputs": [],
   "source": [
    "import pandas as pd\n",
    "import seaborn as sns\n",
    "import numpy as np\n",
    "import sklearn\n",
    "import joblib\n"
   ]
  },
  {
   "cell_type": "code",
   "execution_count": 2,
   "metadata": {},
   "outputs": [
    {
     "data": {
      "text/html": [
       "<div>\n",
       "<style scoped>\n",
       "    .dataframe tbody tr th:only-of-type {\n",
       "        vertical-align: middle;\n",
       "    }\n",
       "\n",
       "    .dataframe tbody tr th {\n",
       "        vertical-align: top;\n",
       "    }\n",
       "\n",
       "    .dataframe thead th {\n",
       "        text-align: right;\n",
       "    }\n",
       "</style>\n",
       "<table border=\"1\" class=\"dataframe\">\n",
       "  <thead>\n",
       "    <tr style=\"text-align: right;\">\n",
       "      <th></th>\n",
       "      <th>Unnamed: 0</th>\n",
       "      <th>TENURE</th>\n",
       "      <th>MONTANT</th>\n",
       "      <th>FREQUENCE_RECH</th>\n",
       "      <th>REVENUE</th>\n",
       "      <th>ARPU_SEGMENT</th>\n",
       "      <th>FREQUENCE</th>\n",
       "      <th>DATA_VOLUME</th>\n",
       "      <th>ON_NET</th>\n",
       "      <th>MRG</th>\n",
       "      <th>REGULARITY</th>\n",
       "      <th>CHURN</th>\n",
       "    </tr>\n",
       "  </thead>\n",
       "  <tbody>\n",
       "    <tr>\n",
       "      <th>0</th>\n",
       "      <td>0</td>\n",
       "      <td>K &gt; 24 month</td>\n",
       "      <td>3000.0</td>\n",
       "      <td>4.0</td>\n",
       "      <td>3002.0</td>\n",
       "      <td>1001.0</td>\n",
       "      <td>8.0</td>\n",
       "      <td>266.0</td>\n",
       "      <td>1.0</td>\n",
       "      <td>NO</td>\n",
       "      <td>32</td>\n",
       "      <td>1</td>\n",
       "    </tr>\n",
       "    <tr>\n",
       "      <th>1</th>\n",
       "      <td>1</td>\n",
       "      <td>K &gt; 24 month</td>\n",
       "      <td>1500.0</td>\n",
       "      <td>3.0</td>\n",
       "      <td>1980.0</td>\n",
       "      <td>660.0</td>\n",
       "      <td>5.0</td>\n",
       "      <td>4341.0</td>\n",
       "      <td>1.0</td>\n",
       "      <td>NO</td>\n",
       "      <td>29</td>\n",
       "      <td>1</td>\n",
       "    </tr>\n",
       "    <tr>\n",
       "      <th>2</th>\n",
       "      <td>2</td>\n",
       "      <td>K &gt; 24 month</td>\n",
       "      <td>9850.0</td>\n",
       "      <td>32.0</td>\n",
       "      <td>9639.0</td>\n",
       "      <td>3213.0</td>\n",
       "      <td>38.0</td>\n",
       "      <td>2700.0</td>\n",
       "      <td>4.0</td>\n",
       "      <td>NO</td>\n",
       "      <td>49</td>\n",
       "      <td>1</td>\n",
       "    </tr>\n",
       "    <tr>\n",
       "      <th>3</th>\n",
       "      <td>3</td>\n",
       "      <td>I 18-21 month</td>\n",
       "      <td>1000.0</td>\n",
       "      <td>2.0</td>\n",
       "      <td>999.0</td>\n",
       "      <td>333.0</td>\n",
       "      <td>2.0</td>\n",
       "      <td>763.0</td>\n",
       "      <td>8.0</td>\n",
       "      <td>NO</td>\n",
       "      <td>1</td>\n",
       "      <td>1</td>\n",
       "    </tr>\n",
       "    <tr>\n",
       "      <th>4</th>\n",
       "      <td>4</td>\n",
       "      <td>K &gt; 24 month</td>\n",
       "      <td>1200.0</td>\n",
       "      <td>3.0</td>\n",
       "      <td>1180.0</td>\n",
       "      <td>393.0</td>\n",
       "      <td>3.0</td>\n",
       "      <td>2955.0</td>\n",
       "      <td>28.0</td>\n",
       "      <td>NO</td>\n",
       "      <td>21</td>\n",
       "      <td>1</td>\n",
       "    </tr>\n",
       "  </tbody>\n",
       "</table>\n",
       "</div>"
      ],
      "text/plain": [
       "   Unnamed: 0         TENURE  MONTANT  FREQUENCE_RECH  REVENUE  ARPU_SEGMENT  \\\n",
       "0           0   K > 24 month   3000.0             4.0   3002.0        1001.0   \n",
       "1           1   K > 24 month   1500.0             3.0   1980.0         660.0   \n",
       "2           2   K > 24 month   9850.0            32.0   9639.0        3213.0   \n",
       "3           3  I 18-21 month   1000.0             2.0    999.0         333.0   \n",
       "4           4   K > 24 month   1200.0             3.0   1180.0         393.0   \n",
       "\n",
       "   FREQUENCE  DATA_VOLUME  ON_NET MRG  REGULARITY  CHURN  \n",
       "0        8.0        266.0     1.0  NO          32      1  \n",
       "1        5.0       4341.0     1.0  NO          29      1  \n",
       "2       38.0       2700.0     4.0  NO          49      1  \n",
       "3        2.0        763.0     8.0  NO           1      1  \n",
       "4        3.0       2955.0    28.0  NO          21      1  "
      ]
     },
     "execution_count": 2,
     "metadata": {},
     "output_type": "execute_result"
    }
   ],
   "source": [
    "data = pd.read_csv('expresso_processed.csv')\n",
    "data.head()"
   ]
  },
  {
   "cell_type": "code",
   "execution_count": 3,
   "metadata": {},
   "outputs": [],
   "source": [
    "ds = data.copy()"
   ]
  },
  {
   "cell_type": "code",
   "execution_count": 4,
   "metadata": {},
   "outputs": [
    {
     "data": {
      "text/plain": [
       "<bound method DataFrame.info of        Unnamed: 0         TENURE  MONTANT  FREQUENCE_RECH  REVENUE  \\\n",
       "0               0   K > 24 month   3000.0             4.0   3002.0   \n",
       "1               1   K > 24 month   1500.0             3.0   1980.0   \n",
       "2               2   K > 24 month   9850.0            32.0   9639.0   \n",
       "3               3  I 18-21 month   1000.0             2.0    999.0   \n",
       "4               4   K > 24 month   1200.0             3.0   1180.0   \n",
       "...           ...            ...      ...             ...      ...   \n",
       "64371       34995   K > 24 month   2300.0            10.0   2224.0   \n",
       "64372       34996   K > 24 month  10800.0            27.0  10801.0   \n",
       "64373       34997   K > 24 month   4000.0             4.0   4007.0   \n",
       "64374       34998   K > 24 month  13600.0            28.0  14600.0   \n",
       "64375       34999   K > 24 month   1400.0             8.0   1100.0   \n",
       "\n",
       "       ARPU_SEGMENT  FREQUENCE  DATA_VOLUME  ON_NET MRG  REGULARITY  CHURN  \n",
       "0            1001.0        8.0        266.0     1.0  NO          32      1  \n",
       "1             660.0        5.0       4341.0     1.0  NO          29      1  \n",
       "2            3213.0       38.0       2700.0     4.0  NO          49      1  \n",
       "3             333.0        2.0        763.0     8.0  NO           1      1  \n",
       "4             393.0        3.0       2955.0    28.0  NO          21      1  \n",
       "...             ...        ...          ...     ...  ..         ...    ...  \n",
       "64371         741.0       25.0       1441.0     3.0  NO          62      0  \n",
       "64372        3600.0       26.0      11460.0    25.0  NO          45      0  \n",
       "64373        1336.0        5.0      11873.0     3.0  NO          50      0  \n",
       "64374        4867.0       37.0       3676.0   291.0  NO          62      0  \n",
       "64375         367.0        8.0       1146.0     0.0  NO          42      0  \n",
       "\n",
       "[64376 rows x 12 columns]>"
      ]
     },
     "execution_count": 4,
     "metadata": {},
     "output_type": "execute_result"
    }
   ],
   "source": [
    "ds.info"
   ]
  },
  {
   "cell_type": "code",
   "execution_count": 6,
   "metadata": {},
   "outputs": [
    {
     "name": "stdout",
     "output_type": "stream",
     "text": [
      "Categorical Dataset\n"
     ]
    },
    {
     "data": {
      "text/html": [
       "<div>\n",
       "<style scoped>\n",
       "    .dataframe tbody tr th:only-of-type {\n",
       "        vertical-align: middle;\n",
       "    }\n",
       "\n",
       "    .dataframe tbody tr th {\n",
       "        vertical-align: top;\n",
       "    }\n",
       "\n",
       "    .dataframe thead th {\n",
       "        text-align: right;\n",
       "    }\n",
       "</style>\n",
       "<table border=\"1\" class=\"dataframe\">\n",
       "  <thead>\n",
       "    <tr style=\"text-align: right;\">\n",
       "      <th></th>\n",
       "      <th>TENURE</th>\n",
       "      <th>MRG</th>\n",
       "    </tr>\n",
       "  </thead>\n",
       "  <tbody>\n",
       "    <tr>\n",
       "      <th>0</th>\n",
       "      <td>K &gt; 24 month</td>\n",
       "      <td>NO</td>\n",
       "    </tr>\n",
       "    <tr>\n",
       "      <th>1</th>\n",
       "      <td>K &gt; 24 month</td>\n",
       "      <td>NO</td>\n",
       "    </tr>\n",
       "    <tr>\n",
       "      <th>2</th>\n",
       "      <td>K &gt; 24 month</td>\n",
       "      <td>NO</td>\n",
       "    </tr>\n",
       "    <tr>\n",
       "      <th>3</th>\n",
       "      <td>I 18-21 month</td>\n",
       "      <td>NO</td>\n",
       "    </tr>\n",
       "    <tr>\n",
       "      <th>4</th>\n",
       "      <td>K &gt; 24 month</td>\n",
       "      <td>NO</td>\n",
       "    </tr>\n",
       "  </tbody>\n",
       "</table>\n",
       "</div>"
      ],
      "text/plain": [
       "          TENURE MRG\n",
       "0   K > 24 month  NO\n",
       "1   K > 24 month  NO\n",
       "2   K > 24 month  NO\n",
       "3  I 18-21 month  NO\n",
       "4   K > 24 month  NO"
      ]
     },
     "metadata": {},
     "output_type": "display_data"
    },
    {
     "name": "stdout",
     "output_type": "stream",
     "text": [
      "\n",
      "\n",
      "Numerical Dataset\n"
     ]
    },
    {
     "data": {
      "text/html": [
       "<div>\n",
       "<style scoped>\n",
       "    .dataframe tbody tr th:only-of-type {\n",
       "        vertical-align: middle;\n",
       "    }\n",
       "\n",
       "    .dataframe tbody tr th {\n",
       "        vertical-align: top;\n",
       "    }\n",
       "\n",
       "    .dataframe thead th {\n",
       "        text-align: right;\n",
       "    }\n",
       "</style>\n",
       "<table border=\"1\" class=\"dataframe\">\n",
       "  <thead>\n",
       "    <tr style=\"text-align: right;\">\n",
       "      <th></th>\n",
       "      <th>Unnamed: 0</th>\n",
       "      <th>MONTANT</th>\n",
       "      <th>FREQUENCE_RECH</th>\n",
       "      <th>REVENUE</th>\n",
       "      <th>ARPU_SEGMENT</th>\n",
       "      <th>FREQUENCE</th>\n",
       "      <th>DATA_VOLUME</th>\n",
       "      <th>ON_NET</th>\n",
       "      <th>REGULARITY</th>\n",
       "      <th>CHURN</th>\n",
       "    </tr>\n",
       "  </thead>\n",
       "  <tbody>\n",
       "    <tr>\n",
       "      <th>0</th>\n",
       "      <td>0</td>\n",
       "      <td>3000.0</td>\n",
       "      <td>4.0</td>\n",
       "      <td>3002.0</td>\n",
       "      <td>1001.0</td>\n",
       "      <td>8.0</td>\n",
       "      <td>266.0</td>\n",
       "      <td>1.0</td>\n",
       "      <td>32</td>\n",
       "      <td>1</td>\n",
       "    </tr>\n",
       "    <tr>\n",
       "      <th>1</th>\n",
       "      <td>1</td>\n",
       "      <td>1500.0</td>\n",
       "      <td>3.0</td>\n",
       "      <td>1980.0</td>\n",
       "      <td>660.0</td>\n",
       "      <td>5.0</td>\n",
       "      <td>4341.0</td>\n",
       "      <td>1.0</td>\n",
       "      <td>29</td>\n",
       "      <td>1</td>\n",
       "    </tr>\n",
       "    <tr>\n",
       "      <th>2</th>\n",
       "      <td>2</td>\n",
       "      <td>9850.0</td>\n",
       "      <td>32.0</td>\n",
       "      <td>9639.0</td>\n",
       "      <td>3213.0</td>\n",
       "      <td>38.0</td>\n",
       "      <td>2700.0</td>\n",
       "      <td>4.0</td>\n",
       "      <td>49</td>\n",
       "      <td>1</td>\n",
       "    </tr>\n",
       "    <tr>\n",
       "      <th>3</th>\n",
       "      <td>3</td>\n",
       "      <td>1000.0</td>\n",
       "      <td>2.0</td>\n",
       "      <td>999.0</td>\n",
       "      <td>333.0</td>\n",
       "      <td>2.0</td>\n",
       "      <td>763.0</td>\n",
       "      <td>8.0</td>\n",
       "      <td>1</td>\n",
       "      <td>1</td>\n",
       "    </tr>\n",
       "    <tr>\n",
       "      <th>4</th>\n",
       "      <td>4</td>\n",
       "      <td>1200.0</td>\n",
       "      <td>3.0</td>\n",
       "      <td>1180.0</td>\n",
       "      <td>393.0</td>\n",
       "      <td>3.0</td>\n",
       "      <td>2955.0</td>\n",
       "      <td>28.0</td>\n",
       "      <td>21</td>\n",
       "      <td>1</td>\n",
       "    </tr>\n",
       "  </tbody>\n",
       "</table>\n",
       "</div>"
      ],
      "text/plain": [
       "   Unnamed: 0  MONTANT  FREQUENCE_RECH  REVENUE  ARPU_SEGMENT  FREQUENCE  \\\n",
       "0           0   3000.0             4.0   3002.0        1001.0        8.0   \n",
       "1           1   1500.0             3.0   1980.0         660.0        5.0   \n",
       "2           2   9850.0            32.0   9639.0        3213.0       38.0   \n",
       "3           3   1000.0             2.0    999.0         333.0        2.0   \n",
       "4           4   1200.0             3.0   1180.0         393.0        3.0   \n",
       "\n",
       "   DATA_VOLUME  ON_NET  REGULARITY  CHURN  \n",
       "0        266.0     1.0          32      1  \n",
       "1       4341.0     1.0          29      1  \n",
       "2       2700.0     4.0          49      1  \n",
       "3        763.0     8.0           1      1  \n",
       "4       2955.0    28.0          21      1  "
      ]
     },
     "metadata": {},
     "output_type": "display_data"
    }
   ],
   "source": [
    "cats = ds.select_dtypes(exclude = 'number')\n",
    "nums = ds.select_dtypes(include = 'number')\n",
    "\n",
    "print('Categorical Dataset')\n",
    "display(cats.head())\n",
    "print(f'\\n\\nNumerical Dataset')\n",
    "display(nums.head())"
   ]
  },
  {
   "cell_type": "code",
   "execution_count": 7,
   "metadata": {},
   "outputs": [
    {
     "data": {
      "text/html": [
       "<div>\n",
       "<style scoped>\n",
       "    .dataframe tbody tr th:only-of-type {\n",
       "        vertical-align: middle;\n",
       "    }\n",
       "\n",
       "    .dataframe tbody tr th {\n",
       "        vertical-align: top;\n",
       "    }\n",
       "\n",
       "    .dataframe thead th {\n",
       "        text-align: right;\n",
       "    }\n",
       "</style>\n",
       "<table border=\"1\" class=\"dataframe\">\n",
       "  <thead>\n",
       "    <tr style=\"text-align: right;\">\n",
       "      <th></th>\n",
       "      <th>TENURE</th>\n",
       "      <th>MONTANT</th>\n",
       "      <th>FREQUENCE_RECH</th>\n",
       "      <th>REVENUE</th>\n",
       "      <th>ARPU_SEGMENT</th>\n",
       "      <th>FREQUENCE</th>\n",
       "      <th>DATA_VOLUME</th>\n",
       "      <th>ON_NET</th>\n",
       "      <th>MRG</th>\n",
       "      <th>REGULARITY</th>\n",
       "      <th>CHURN</th>\n",
       "    </tr>\n",
       "  </thead>\n",
       "  <tbody>\n",
       "    <tr>\n",
       "      <th>0</th>\n",
       "      <td>K &gt; 24 month</td>\n",
       "      <td>3000.0</td>\n",
       "      <td>4.0</td>\n",
       "      <td>3002.0</td>\n",
       "      <td>1001.0</td>\n",
       "      <td>8.0</td>\n",
       "      <td>266.0</td>\n",
       "      <td>1.0</td>\n",
       "      <td>NO</td>\n",
       "      <td>32</td>\n",
       "      <td>1</td>\n",
       "    </tr>\n",
       "    <tr>\n",
       "      <th>1</th>\n",
       "      <td>K &gt; 24 month</td>\n",
       "      <td>1500.0</td>\n",
       "      <td>3.0</td>\n",
       "      <td>1980.0</td>\n",
       "      <td>660.0</td>\n",
       "      <td>5.0</td>\n",
       "      <td>4341.0</td>\n",
       "      <td>1.0</td>\n",
       "      <td>NO</td>\n",
       "      <td>29</td>\n",
       "      <td>1</td>\n",
       "    </tr>\n",
       "    <tr>\n",
       "      <th>2</th>\n",
       "      <td>K &gt; 24 month</td>\n",
       "      <td>9850.0</td>\n",
       "      <td>32.0</td>\n",
       "      <td>9639.0</td>\n",
       "      <td>3213.0</td>\n",
       "      <td>38.0</td>\n",
       "      <td>2700.0</td>\n",
       "      <td>4.0</td>\n",
       "      <td>NO</td>\n",
       "      <td>49</td>\n",
       "      <td>1</td>\n",
       "    </tr>\n",
       "    <tr>\n",
       "      <th>3</th>\n",
       "      <td>I 18-21 month</td>\n",
       "      <td>1000.0</td>\n",
       "      <td>2.0</td>\n",
       "      <td>999.0</td>\n",
       "      <td>333.0</td>\n",
       "      <td>2.0</td>\n",
       "      <td>763.0</td>\n",
       "      <td>8.0</td>\n",
       "      <td>NO</td>\n",
       "      <td>1</td>\n",
       "      <td>1</td>\n",
       "    </tr>\n",
       "    <tr>\n",
       "      <th>4</th>\n",
       "      <td>K &gt; 24 month</td>\n",
       "      <td>1200.0</td>\n",
       "      <td>3.0</td>\n",
       "      <td>1180.0</td>\n",
       "      <td>393.0</td>\n",
       "      <td>3.0</td>\n",
       "      <td>2955.0</td>\n",
       "      <td>28.0</td>\n",
       "      <td>NO</td>\n",
       "      <td>21</td>\n",
       "      <td>1</td>\n",
       "    </tr>\n",
       "  </tbody>\n",
       "</table>\n",
       "</div>"
      ],
      "text/plain": [
       "          TENURE  MONTANT  FREQUENCE_RECH  REVENUE  ARPU_SEGMENT  FREQUENCE  \\\n",
       "0   K > 24 month   3000.0             4.0   3002.0        1001.0        8.0   \n",
       "1   K > 24 month   1500.0             3.0   1980.0         660.0        5.0   \n",
       "2   K > 24 month   9850.0            32.0   9639.0        3213.0       38.0   \n",
       "3  I 18-21 month   1000.0             2.0    999.0         333.0        2.0   \n",
       "4   K > 24 month   1200.0             3.0   1180.0         393.0        3.0   \n",
       "\n",
       "   DATA_VOLUME  ON_NET MRG  REGULARITY  CHURN  \n",
       "0        266.0     1.0  NO          32      1  \n",
       "1       4341.0     1.0  NO          29      1  \n",
       "2       2700.0     4.0  NO          49      1  \n",
       "3        763.0     8.0  NO           1      1  \n",
       "4       2955.0    28.0  NO          21      1  "
      ]
     },
     "execution_count": 7,
     "metadata": {},
     "output_type": "execute_result"
    }
   ],
   "source": [
    "ds.drop('Unnamed: 0', axis = 1, inplace = True)\n",
    "ds.head()"
   ]
  },
  {
   "cell_type": "code",
   "execution_count": 9,
   "metadata": {},
   "outputs": [
    {
     "data": {
      "text/plain": [
       "{'TENURE_encoder': LabelEncoder(), 'MRG_encoder': LabelEncoder()}"
      ]
     },
     "execution_count": 9,
     "metadata": {},
     "output_type": "execute_result"
    }
   ],
   "source": [
    "from sklearn.preprocessing import LabelEncoder, StandardScaler\n",
    "import joblib\n",
    "\n",
    "encoded = {}\n",
    "\n",
    "for i in ds.select_dtypes(exclude = 'number'):   \n",
    "    encoder = LabelEncoder() \n",
    "    ds[i] = encoder.fit_transform(ds[i]) \n",
    "    encoded[i + '_encoder'] = encoder \n",
    "    joblib.dump(encoder, open(f'{i}_encoder.pkl', 'wb')) \n",
    "\n",
    "encoded"
   ]
  },
  {
   "cell_type": "code",
   "execution_count": 10,
   "metadata": {},
   "outputs": [
    {
     "data": {
      "text/plain": [
       "{'MONTANT_scaled': StandardScaler(),\n",
       " 'REVENUE_scaled': StandardScaler(),\n",
       " 'ARPU_SEGMENT_scaled': StandardScaler(),\n",
       " 'DATA_VOLUME_scaled': StandardScaler()}"
      ]
     },
     "execution_count": 10,
     "metadata": {},
     "output_type": "execute_result"
    }
   ],
   "source": [
    "toBeScaled = ['MONTANT', 'REVENUE', 'ARPU_SEGMENT', 'DATA_VOLUME']\n",
    "scaled = {}\n",
    "\n",
    "for i in toBeScaled:\n",
    "    scaler = StandardScaler()\n",
    "    ds[i] = scaler.fit_transform(ds[[i]])\n",
    "    scaled[i + '_scaled'] = scaler\n",
    "    joblib.dump(scaler, open(f'{i}_scaler.pkl', 'wb')) \n",
    "\n",
    "scaled"
   ]
  },
  {
   "cell_type": "code",
   "execution_count": 11,
   "metadata": {},
   "outputs": [
    {
     "data": {
      "text/html": [
       "<div>\n",
       "<style scoped>\n",
       "    .dataframe tbody tr th:only-of-type {\n",
       "        vertical-align: middle;\n",
       "    }\n",
       "\n",
       "    .dataframe tbody tr th {\n",
       "        vertical-align: top;\n",
       "    }\n",
       "\n",
       "    .dataframe thead th {\n",
       "        text-align: right;\n",
       "    }\n",
       "</style>\n",
       "<table border=\"1\" class=\"dataframe\">\n",
       "  <thead>\n",
       "    <tr style=\"text-align: right;\">\n",
       "      <th></th>\n",
       "      <th>TENURE</th>\n",
       "      <th>MONTANT</th>\n",
       "      <th>FREQUENCE_RECH</th>\n",
       "      <th>REVENUE</th>\n",
       "      <th>ARPU_SEGMENT</th>\n",
       "      <th>FREQUENCE</th>\n",
       "      <th>DATA_VOLUME</th>\n",
       "      <th>ON_NET</th>\n",
       "      <th>MRG</th>\n",
       "      <th>REGULARITY</th>\n",
       "      <th>CHURN</th>\n",
       "    </tr>\n",
       "  </thead>\n",
       "  <tbody>\n",
       "    <tr>\n",
       "      <th>0</th>\n",
       "      <td>7</td>\n",
       "      <td>-0.304123</td>\n",
       "      <td>4.0</td>\n",
       "      <td>-0.314144</td>\n",
       "      <td>-0.314002</td>\n",
       "      <td>8.0</td>\n",
       "      <td>-0.380804</td>\n",
       "      <td>1.0</td>\n",
       "      <td>0</td>\n",
       "      <td>32</td>\n",
       "      <td>1</td>\n",
       "    </tr>\n",
       "    <tr>\n",
       "      <th>1</th>\n",
       "      <td>7</td>\n",
       "      <td>-0.525441</td>\n",
       "      <td>3.0</td>\n",
       "      <td>-0.461982</td>\n",
       "      <td>-0.461985</td>\n",
       "      <td>5.0</td>\n",
       "      <td>0.138867</td>\n",
       "      <td>1.0</td>\n",
       "      <td>0</td>\n",
       "      <td>29</td>\n",
       "      <td>1</td>\n",
       "    </tr>\n",
       "    <tr>\n",
       "      <th>2</th>\n",
       "      <td>7</td>\n",
       "      <td>0.706564</td>\n",
       "      <td>32.0</td>\n",
       "      <td>0.645935</td>\n",
       "      <td>0.645934</td>\n",
       "      <td>38.0</td>\n",
       "      <td>-0.070404</td>\n",
       "      <td>4.0</td>\n",
       "      <td>0</td>\n",
       "      <td>49</td>\n",
       "      <td>1</td>\n",
       "    </tr>\n",
       "    <tr>\n",
       "      <th>3</th>\n",
       "      <td>5</td>\n",
       "      <td>-0.599214</td>\n",
       "      <td>2.0</td>\n",
       "      <td>-0.603890</td>\n",
       "      <td>-0.603892</td>\n",
       "      <td>2.0</td>\n",
       "      <td>-0.317423</td>\n",
       "      <td>8.0</td>\n",
       "      <td>0</td>\n",
       "      <td>1</td>\n",
       "      <td>1</td>\n",
       "    </tr>\n",
       "    <tr>\n",
       "      <th>4</th>\n",
       "      <td>7</td>\n",
       "      <td>-0.569705</td>\n",
       "      <td>3.0</td>\n",
       "      <td>-0.577707</td>\n",
       "      <td>-0.577854</td>\n",
       "      <td>3.0</td>\n",
       "      <td>-0.037885</td>\n",
       "      <td>28.0</td>\n",
       "      <td>0</td>\n",
       "      <td>21</td>\n",
       "      <td>1</td>\n",
       "    </tr>\n",
       "  </tbody>\n",
       "</table>\n",
       "</div>"
      ],
      "text/plain": [
       "   TENURE   MONTANT  FREQUENCE_RECH   REVENUE  ARPU_SEGMENT  FREQUENCE  \\\n",
       "0       7 -0.304123             4.0 -0.314144     -0.314002        8.0   \n",
       "1       7 -0.525441             3.0 -0.461982     -0.461985        5.0   \n",
       "2       7  0.706564            32.0  0.645935      0.645934       38.0   \n",
       "3       5 -0.599214             2.0 -0.603890     -0.603892        2.0   \n",
       "4       7 -0.569705             3.0 -0.577707     -0.577854        3.0   \n",
       "\n",
       "   DATA_VOLUME  ON_NET  MRG  REGULARITY  CHURN  \n",
       "0    -0.380804     1.0    0          32      1  \n",
       "1     0.138867     1.0    0          29      1  \n",
       "2    -0.070404     4.0    0          49      1  \n",
       "3    -0.317423     8.0    0           1      1  \n",
       "4    -0.037885    28.0    0          21      1  "
      ]
     },
     "execution_count": 11,
     "metadata": {},
     "output_type": "execute_result"
    }
   ],
   "source": [
    "ds.head()"
   ]
  },
  {
   "cell_type": "code",
   "execution_count": 12,
   "metadata": {},
   "outputs": [],
   "source": [
    "x = ds.drop('CHURN', axis = 1)\n",
    "y = ds.CHURN\n",
    "\n",
    "from sklearn.model_selection import train_test_split\n",
    "xtrain, xtest, ytrain, ytest = train_test_split(x,y, train_size = 0.9, stratify = y, random_state = 5)"
   ]
  },
  {
   "cell_type": "code",
   "execution_count": 13,
   "metadata": {},
   "outputs": [
    {
     "name": "stdout",
     "output_type": "stream",
     "text": [
      "              precision    recall  f1-score   support\n",
      "\n",
      "           0       1.00      1.00      1.00     31465\n",
      "           1       1.00      1.00      1.00     26473\n",
      "\n",
      "    accuracy                           1.00     57938\n",
      "   macro avg       1.00      1.00      1.00     57938\n",
      "weighted avg       1.00      1.00      1.00     57938\n",
      "\n"
     ]
    }
   ],
   "source": [
    "from sklearn.ensemble import RandomForestClassifier\n",
    "from sklearn.metrics import classification_report, confusion_matrix\n",
    "\n",
    "rf_model = RandomForestClassifier()\n",
    "rf_model.fit(xtrain, ytrain)\n",
    "\n",
    "cross_validation = rf_model.predict(xtrain)\n",
    "print(classification_report(cross_validation, ytrain))"
   ]
  },
  {
   "cell_type": "code",
   "execution_count": 14,
   "metadata": {},
   "outputs": [
    {
     "data": {
      "text/plain": [
       "<Axes: title={'center': 'Feature importance'}, xlabel='F score', ylabel='Features'>"
      ]
     },
     "execution_count": 14,
     "metadata": {},
     "output_type": "execute_result"
    },
    {
     "data": {
      "image/png": "[encoded data removed]",
      "text/plain": [
       "<Figure size 640x480 with 1 Axes>"
      ]
     },
     "metadata": {},
     "output_type": "display_data"
    }
   ],
   "source": [
    "import matplotlib.pyplot as plt\n",
    "import xgboost as xgb\n",
    "model = xgb.XGBClassifier()\n",
    "\n",
    "x = ds.drop('CHURN', axis = 1)\n",
    "y = ds.CHURN\n",
    "\n",
    "model.fit(x, y)\n",
    "\n",
    "xgb.plot_importance(model, importance_type = 'weight')"
   ]
  },
  {
   "cell_type": "code",
   "execution_count": 15,
   "metadata": {},
   "outputs": [
    {
     "name": "stdout",
     "output_type": "stream",
     "text": [
      "              precision    recall  f1-score   support\n",
      "\n",
      "           0       0.78      0.79      0.78     31366\n",
      "           1       0.75      0.74      0.74     26572\n",
      "\n",
      "    accuracy                           0.77     57938\n",
      "   macro avg       0.76      0.76      0.76     57938\n",
      "weighted avg       0.77      0.77      0.77     57938\n",
      "\n"
     ]
    },
    {
     "name": "stderr",
     "output_type": "stream",
     "text": [
      "c:\\Users\\Spectre X360\\AppData\\Local\\Programs\\Python\\Python311\\Lib\\site-packages\\sklearn\\linear_model\\_logistic.py:469: ConvergenceWarning: lbfgs failed to converge (status=1):\n",
      "STOP: TOTAL NO. of ITERATIONS REACHED LIMIT.\n",
      "\n",
      "Increase the number of iterations (max_iter) or scale the data as shown in:\n",
      "    https://scikit-learn.org/stable/modules/preprocessing.html\n",
      "Please also refer to the documentation for alternative solver options:\n",
      "    https://scikit-learn.org/stable/modules/linear_model.html#logistic-regression\n",
      "  n_iter_i = _check_optimize_result(\n"
     ]
    }
   ],
   "source": [
    "from sklearn.linear_model import LogisticRegression\n",
    "from sklearn.metrics import classification_report, confusion_matrix\n",
    "\n",
    "log_reg = LogisticRegression()\n",
    "\n",
    "log_reg.fit(xtrain, ytrain)\n",
    "\n",
    "\n",
    "cross_validation = log_reg.predict(xtrain) \n",
    "print(classification_report(cross_validation, ytrain)) "
   ]
  },
  {
   "cell_type": "code",
   "execution_count": 16,
   "metadata": {},
   "outputs": [
    {
     "data": {
      "text/plain": [
       "<Axes: >"
      ]
     },
     "execution_count": 16,
     "metadata": {},
     "output_type": "execute_result"
    },
    {
     "data": {
      "image/png": "[encoded data removed]",
      "text/plain": [
       "<Figure size 400x200 with 2 Axes>"
      ]
     },
     "metadata": {},
     "output_type": "display_data"
    }
   ],
   "source": [
    "revealer = confusion_matrix(cross_validation, ytrain)\n",
    "plt.figure(figsize = (4,2))\n",
    "sns.set(style = 'darkgrid')\n",
    "sns.heatmap(revealer/np.sum(revealer), annot=True, cmap='crest', linewidth=5)"
   ]
  },
  {
   "cell_type": "code",
   "execution_count": 17,
   "metadata": {},
   "outputs": [
    {
     "data": {
      "text/plain": [
       "[Text(0, 0, '35000'), Text(0, 0, '29376')]"
      ]
     },
     "execution_count": 17,
     "metadata": {},
     "output_type": "execute_result"
    },
    {
     "data": {
      "image/png": "[encoded data removed]",
      "text/plain": [
       "<Figure size 640x480 with 1 Axes>"
      ]
     },
     "metadata": {},
     "output_type": "display_data"
    }
   ],
   "source": [
    "fig = sns.countplot(x = ds.CHURN)\n",
    "fig.bar_label(fig.containers[0])"
   ]
  },
  {
   "cell_type": "code",
   "execution_count": 29,
   "metadata": {},
   "outputs": [],
   "source": [
    "joblib.dump(log_reg, open('ExpressoModel.pkl', 'wb'))"
   ]
  }
 ],
 "metadata": {
  "kernelspec": {
   "display_name": "Python 3",
   "language": "python",
   "name": "python3"
  },
  "language_info": {
   "codemirror_mode": {
    "name": "ipython",
    "version": 3
   },
   "file_extension": ".py",
   "mimetype": "text/x-python",
   "name": "python",
   "nbconvert_exporter": "python",
   "pygments_lexer": "ipython3",
   "version": "3.11.7"
  }
 },
 "nbformat": 4,
 "nbformat_minor": 2
}
